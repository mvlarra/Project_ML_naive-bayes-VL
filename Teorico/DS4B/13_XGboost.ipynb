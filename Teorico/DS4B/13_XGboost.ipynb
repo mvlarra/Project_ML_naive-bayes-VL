{
 "cells": [
  {
   "cell_type": "markdown",
   "id": "driving-blond",
   "metadata": {},
   "source": [
    "# XGBOOST"
   ]
  },
  {
   "cell_type": "markdown",
   "id": "skilled-owner",
   "metadata": {},
   "source": [
    "## Objetivo de esta lección"
   ]
  },
  {
   "cell_type": "markdown",
   "id": "korean-orange",
   "metadata": {},
   "source": [
    "Aprender el que es posiblemente el algoritmo que actualmente es considerado como el rey de los algoritmos de ML supervisado: Xgboost.\n",
    "\n",
    "Además aprenderemos sobre la categoría general de Boosting y los modelos Gradient Boosting Machines."
   ]
  },
  {
   "cell_type": "markdown",
   "id": "separated-laptop",
   "metadata": {},
   "source": [
    "## Contexto y antecedentes"
   ]
  },
  {
   "cell_type": "markdown",
   "id": "criminal-taylor",
   "metadata": {},
   "source": [
    "En la lección anterior de Random Forest ya vimos que había 2 grandes estrategias para mejorar los resultados de los modelos basados en árboles.\n",
    "\n",
    "La primera era bagging, que ya la explicamos y cuya mejor implementación actual son los Random Forest.\n",
    "\n",
    "Y la otra era Boosting, que simplemente la nombramos.\n",
    "\n",
    "A diferencia de Bagging que funciona desarrollando muchos modelos en paralelo y luego combinándolos, Boosting funciona también haciendo muchos modelos pero donde cada uno está destinado a mejorar la predicción en los casos en los que el anterior no consiguió tener buena predicción, intentando capturar los patrones no capturados en los errores hasta que el error parezca aleatorio.\n",
    "\n",
    "La predicción final se realiza integrando todas las predicciones de cada uno de los árboles individuales que conforman el modelo final.\n",
    "\n",
    "Es por eso que estos modelos suelen ser más precisos, ya que trabajan reduciendo el sesgo (frente a los de bagging que reducían la varianza), pero pueden tener más riesgo de sobre ajustar.\n",
    "\n",
    "La primera implementación famosa de este concepto fue con un algoritmo que se llama Adaboost.\n",
    "\n",
    "Después llegó Gradient Boosting Machines y alguna variación como Stochastic Gradient Boosting.\n",
    "\n",
    "GBM mejoraba mucho la capacidad predictiva, pero tenía el problema de que era muy pesado y tardaba mucho en entrenarse.\n",
    "\n",
    "A grandes rasgos el concepto clave es el de \"optimización del gradiente\", por lo que todos estos algoritmos tienen un parámetro llamado \"learning rate\" que ajusta el nivel de corrección del gradiente en cada iteración. En la práctica se suele situar entre  0.001 y 0.01.\n",
    "\n",
    "Stochastic Gradient Boosting introducía una mejora traída de bagging, el muestreo aleatorio de observaciones de entrenamiento. Es decir, en lugar de volver a usar todos los datos en cada iteración SGB usa sólo una muestra aleatoria.\n",
    "\n",
    "En la opción que se llama mini-batch esa muestra es de varios casos. En la opción pura de Stochastic Gradient Boosting llega a ser incluso de un solo caso por iteración.\n",
    "\n",
    "Pero como decíamos GBM es lento, y el motivo es porque para hacer los cortes de las variables necesita iterar sobre todos los valores observados de cada variable predictora.\n",
    "\n",
    "Así que la siguiente generación solucionó este problema con la estrategia que se llama binning, que básicamente consiste en discretizar y buscar los cortes por tramos, lo cual agiliza mucho el proceso.\n",
    "\n",
    "En resumen, que este es un campo en contínuo desarrollo y mejora.\n",
    "\n",
    "Por ello, aunque el algoritmo de boosting que ahora mismo implementa Sklearn es GBM con GradientBoostingClassifier() y GradientBoostingRegressor() ambos del módulo ensemble, nosotros vamos a aprender los que son hoy considerados como los mejores algoritmos: XGBoost (en esta lección) y LightGBM (en la siguiente).\n",
    "\n",
    "Para XGBoost vamos a necesitar un paquete externo a Sklearn pero que tiene una interfaz para usarlos con la misma metodología que ya conocemos.\n",
    "\n",
    "XGBoost viene de eXtreme Gradient Boosting."
   ]
  },
  {
   "cell_type": "markdown",
   "id": "organic-happiness",
   "metadata": {},
   "source": [
    "## FICHA DEL ALGORITMO"
   ]
  },
  {
   "cell_type": "markdown",
   "id": "established-olympus",
   "metadata": {},
   "source": [
    "### Ámbito de aplicación"
   ]
  },
  {
   "cell_type": "markdown",
   "id": "minute-hayes",
   "metadata": {},
   "source": [
    "XGGoost se puede aplicar tanto en ámbitos de clasificación como de regresión.\n",
    "\n",
    "XGBoost tiene una clase diferente para cada caso:\n",
    "\n",
    "* Para clasificación: XGBClassifier()\n",
    "* Para regresión: XGBRegressor()\n",
    "\n",
    "Al igual que RF no tiene una salida fácilmente explicable, así que el ámbito de aplicación ideal es cuando se requiere una alta precisión sin una gran capacidad de interpretación.\n",
    "\n",
    "También ha mejorado mucho la velocidad de entrenamiento gracias al uso de binning y a que está nativamente diseñado para trabajar en paralelo y aprovechar todos los cores del equipo, así que es un algoritmo indicado cuando tenemos muchos datos.\n",
    "\n",
    "Incluso acepta GPUs."
   ]
  },
  {
   "cell_type": "markdown",
   "id": "tested-livestock",
   "metadata": {},
   "source": [
    "### Pros"
   ]
  },
  {
   "cell_type": "markdown",
   "id": "modular-token",
   "metadata": {},
   "source": [
    "* Muy rápido\n",
    "* Muy buena capacidad predictiva\n",
    "* Cubre clasificación y regresión\n",
    "* No necesita preselección previa de variables\n",
    "* Métrica incorporada de importancia de las variables\n",
    "* Incorpora regularización con los parámetors reg-alpha (L1) y reg-lambda (L2)\n",
    "* No necesita casi preparación de datos\n",
    "* Captura muy bien relaciones no lineales\n",
    "* No tiene hipótesis a cumplir\n",
    "* Puede optimizar para diferentes métricas, tanto en clasificación como en regresión"
   ]
  },
  {
   "cell_type": "markdown",
   "id": "junior-cancer",
   "metadata": {},
   "source": [
    "### Contras"
   ]
  },
  {
   "cell_type": "markdown",
   "id": "comic-consumer",
   "metadata": {},
   "source": [
    "* No tiene una interpretación ni una explicación directa\n",
    "* Necesita encoding para los predictores categóricos"
   ]
  },
  {
   "cell_type": "markdown",
   "id": "settled-reservation",
   "metadata": {},
   "source": [
    "### Necesidad de preprocesamiento"
   ]
  },
  {
   "cell_type": "markdown",
   "id": "afraid-restoration",
   "metadata": {},
   "source": [
    "No sensible a outliers.\n",
    "\n",
    "No hace falta escalado.\n",
    "\n",
    "No hace falta preselección de variables.\n",
    "\n",
    "Gestiona automáticamente los nulos (no hay que preprocesarlos). Lo que hace en el entrenamiento es que, en las variables en las que haya nulos crea dos versiones de esa rama. En una versión asigna los nulos a un lado y en la otra version al otro lado. Después compara y se queda con la asingación que minimiza el error.\n",
    "\n",
    "Necesita enconding de las variables categóricas."
   ]
  },
  {
   "cell_type": "markdown",
   "id": "individual-arabic",
   "metadata": {},
   "source": [
    "### Supuestos e hipótesis"
   ]
  },
  {
   "cell_type": "markdown",
   "id": "informed-provincial",
   "metadata": {},
   "source": [
    "No tiene."
   ]
  },
  {
   "cell_type": "markdown",
   "id": "north-petroleum",
   "metadata": {},
   "source": [
    "### Sobre ajuste"
   ]
  },
  {
   "cell_type": "markdown",
   "id": "radical-charles",
   "metadata": {},
   "source": [
    "Boosting puede tender al sobre ajuste.\n",
    "\n",
    "Pero XGBoost tiene varios parámetros para aplicar diferentes estrategias para que no suceda:\n",
    "\n",
    "* parámetros para controlar el learning rate\n",
    "* parámetros para controlar la regularización\n",
    "* parámetros para controlar la complejidad de cada árbol"
   ]
  },
  {
   "cell_type": "markdown",
   "id": "maritime-preview",
   "metadata": {},
   "source": [
    "### Grado de interpretación"
   ]
  },
  {
   "cell_type": "markdown",
   "id": "weighted-registration",
   "metadata": {},
   "source": [
    "Bajo.\n",
    "\n",
    "La salida son cientos de árboles que no podemos ponernos a interpretar ni a visualizar individualmente.\n",
    "\n",
    "Pero sí tiene una métrica de importancia de las variables que por lo menos nos ayuda a entender los principales predictores para lo que estemos analizando."
   ]
  },
  {
   "cell_type": "markdown",
   "id": "completed-skating",
   "metadata": {},
   "source": [
    "### Instalación e importación"
   ]
  },
  {
   "cell_type": "markdown",
   "id": "african-sunrise",
   "metadata": {},
   "source": [
    "Como decíamos XGboost es un paquete externo a Sklearn.\n",
    "\n",
    "Lo instalamos así:\n",
    "\n",
    "conda install -c conda-forge xgboost\n",
    "\n",
    "Y lo cargamos así:"
   ]
  },
  {
   "cell_type": "code",
   "execution_count": 2,
   "id": "rural-complement",
   "metadata": {},
   "outputs": [],
   "source": [
    "#Clasificación\n",
    "from xgboost import XGBClassifier\n",
    "\n",
    "#Regresión\n",
    "from xgboost import XGBRegressor"
   ]
  },
  {
   "cell_type": "markdown",
   "id": "equal-opinion",
   "metadata": {},
   "source": [
    "### CLASIFICACIÓN"
   ]
  },
  {
   "cell_type": "markdown",
   "id": "noble-conservative",
   "metadata": {},
   "source": [
    "#### Principales parámetros"
   ]
  },
  {
   "cell_type": "markdown",
   "id": "pressing-innocent",
   "metadata": {},
   "source": [
    "https://xgboost.readthedocs.io/en/latest/python/python_api.html\n",
    "\n",
    "* learning_rate: cuanto más alto mayor velocidad de aprendizaje. Por defecto 0.1 \n",
    "* n_estimators: el número de árboles a crear. Por defecto 100. Recomendado entre 100 y 1000, pero cuidado porque puede sobre ajustar\n",
    "* reg_alpha: regularización en L1\n",
    "* reg_lambda: regularización en L2\n",
    "* max_depth: el número de niveles máximo del árbol\n",
    "* scale_pos_weight: ratio de negativos / positivos para balancear\n",
    "* n_jobs: número de cores a usar\n",
    "* gamma: es un parámetro de poda. por defecto es cero que significa no poda, pero si hay altas diferencias entre los  resultados de train y test usar un valor alto como 10\n",
    "\n",
    "Además hay 3 parámetros especiales porque no se ponen en la instanciación, si no en el fit:\n",
    "\n",
    "* early_stopping_rounds: es una especie de hiperparametrización interna para ajustar n_estimators. Significa que si pasa del número de iteraciones especificado aquí sin tener mejoras ya no seguirá incrementando n_estimators. Para usarlo hay que pasarle en fit un conjunto de test con eval_set. Un buen número es ponerlo a 5.\n",
    "* eval_set: es una lista con los predictores de test y la target de test para que ajuste el parámetro anterior. eval_set=[(test_x, test_y)]\n",
    "* eval_metric: la métrica de evaluación sobre el conjunto de test. Recomiendo poner 'auc'"
   ]
  },
  {
   "cell_type": "markdown",
   "id": "quarterly-fetish",
   "metadata": {},
   "source": [
    "#### Parametrización recomendada"
   ]
  },
  {
   "cell_type": "markdown",
   "id": "correct-election",
   "metadata": {},
   "source": [
    "Hasta que no cojas experiencia propia puede intimidar el tener que tomar decisiones sobre qué valor dar a los parámetros.\n",
    "\n",
    "A partir de la experiencia de competiciones en Kaggle se recomiendan que los valores de los parámetros estén entre los siguientes, que puedes usar como punto de partida."
   ]
  },
  {
   "cell_type": "code",
   "execution_count": 3,
   "id": "bulgarian-plumbing",
   "metadata": {},
   "outputs": [],
   "source": [
    "learning_rate = [0.01,0.015,0.025,0.05,0.1]\n",
    "gamma = [0.05,0.1,0.3,0.5,0.7,0.9,1,10]\n",
    "max_depth = [3,5,7,9,12,15,17,25]\n",
    "reg_alpha = [0,0.1,0.5,1]\n",
    "reg_lambda = [0.01,0.1,1]"
   ]
  },
  {
   "cell_type": "markdown",
   "id": "requested-attempt",
   "metadata": {},
   "source": [
    "#### Principales atributos de resultado"
   ]
  },
  {
   "cell_type": "markdown",
   "id": "worse-calgary",
   "metadata": {},
   "source": [
    "https://xgboost.readthedocs.io/en/latest/python/python_api.html\n",
    "\n",
    "* feature_importances_: para ver la importancia de cada variable"
   ]
  },
  {
   "cell_type": "markdown",
   "id": "silver-tragedy",
   "metadata": {},
   "source": [
    "#### Principales métodos"
   ]
  },
  {
   "cell_type": "markdown",
   "id": "passive-buddy",
   "metadata": {},
   "source": [
    "https://xgboost.readthedocs.io/en/latest/python/python_api.html\n",
    "\n",
    "* fit(): para entrenar\n",
    "* predict_proba(): para generar el scoring\n",
    "* get_params(): para extraer los parámetros del modelo entrenado"
   ]
  },
  {
   "cell_type": "markdown",
   "id": "million-refrigerator",
   "metadata": {},
   "source": [
    "### REGRESIÓN"
   ]
  },
  {
   "cell_type": "markdown",
   "id": "moral-railway",
   "metadata": {},
   "source": [
    "#### Principales parámetros"
   ]
  },
  {
   "cell_type": "markdown",
   "id": "israeli-growth",
   "metadata": {},
   "source": [
    "https://xgboost.readthedocs.io/en/latest/python/python_api.html\n",
    "\n",
    "* learning_rate: cuanto más alto mayor velocidad de aprendizaje. Por defecto 0.1 \n",
    "* n_estimators: el número de árboles a crear. Por defecto 100. Recomendado entre 100 y 1000, pero cuidado porque puede sobre ajustar\n",
    "* reg_alpha: regularización en L1\n",
    "* reg_lambda: regularización en L2\n",
    "* max_depth: el número de niveles máximo del árbol\n",
    "* n_jobs: número de cores a usar\n",
    "* gamma: es un parámetro de poda. por defecto es cero que significa no poda, pero si hay altas diferencias entre los  resultados de train y test usar un valor alto como 10\n",
    "\n",
    "Además hay 3 parámetros especiales porque no se ponen en la instanciación, si no en el fit:\n",
    "\n",
    "* early_stopping_rounds: si pasa del número de iteraciones especificado aquí sin tener mejoras ya no seguirá haciendo más iteraciones. Para usarlo hay que pasarle en fit un conjunto de test con eval_set. Un buen número es ponerlo a 5.\n",
    "* eval_set: es una lista con los predictores de test y la target de test para que ajuste el parámetro anterior. eval_set=[(test_x, test_x)]\n",
    "* eval_metric: la métrica de evaluación sobre el conjunto de test. Recomiendo poner 'rmse' o 'mae'"
   ]
  },
  {
   "cell_type": "markdown",
   "id": "improving-louisiana",
   "metadata": {},
   "source": [
    "#### Parametrización recomendada"
   ]
  },
  {
   "cell_type": "markdown",
   "id": "surrounded-continuity",
   "metadata": {},
   "source": [
    "Hasta que no cojas experiencia propia puede intimidar el tener que tomar decisiones sobre qué valor dar a los parámetros.\n",
    "\n",
    "A partir de la experiencia de competiciones en Kaggle se recomiendan que los valores de los parámetros estén entre los siguientes, que puedes usar como punto de partida."
   ]
  },
  {
   "cell_type": "code",
   "execution_count": 4,
   "id": "thick-taxation",
   "metadata": {},
   "outputs": [],
   "source": [
    "learning_rate = [0.01,0.015,0.025,0.05,0.1]\n",
    "gamma = [0.05,0.1,0.3,0.5,0.7,0.9,1,10]\n",
    "max_depth = [3,5,7,9,12,15,17,25]\n",
    "reg_alpha = [0,0.1,0.5,1]\n",
    "reg_lambda = [0.01,0.1,1]"
   ]
  },
  {
   "cell_type": "markdown",
   "id": "patent-stationery",
   "metadata": {},
   "source": [
    "#### Principales atributos de resultado"
   ]
  },
  {
   "cell_type": "markdown",
   "id": "unlimited-orleans",
   "metadata": {},
   "source": [
    "https://xgboost.readthedocs.io/en/latest/python/python_api.html\n",
    "\n",
    "* feature_importances_: para ver la importancia de cada variable"
   ]
  },
  {
   "cell_type": "markdown",
   "id": "overhead-reach",
   "metadata": {},
   "source": [
    "#### Principales métodos"
   ]
  },
  {
   "cell_type": "markdown",
   "id": "supreme-occupation",
   "metadata": {},
   "source": [
    "https://xgboost.readthedocs.io/en/latest/python/python_api.html\n",
    "\n",
    "* fit(): para entrenar\n",
    "* predict(): para generar el scoring\n",
    "* get_params(): para extraer los parámetros del modelo entrenado"
   ]
  },
  {
   "cell_type": "markdown",
   "id": "raising-gothic",
   "metadata": {},
   "source": [
    "## EJEMPLO"
   ]
  },
  {
   "cell_type": "markdown",
   "id": "fallen-conservation",
   "metadata": {},
   "source": [
    "### Opciones y paquetes"
   ]
  },
  {
   "cell_type": "code",
   "execution_count": 5,
   "id": "promising-captain",
   "metadata": {},
   "outputs": [],
   "source": [
    "import numpy as np\n",
    "import pandas as pd\n",
    "import matplotlib.pyplot as plt\n",
    "%matplotlib inline\n",
    "\n",
    "#Automcompletar rápido\n",
    "%config IPCompleter.greedy=True"
   ]
  },
  {
   "cell_type": "markdown",
   "id": "precious-somalia",
   "metadata": {},
   "source": [
    "### Importación de datos"
   ]
  },
  {
   "cell_type": "markdown",
   "id": "horizontal-lying",
   "metadata": {},
   "source": [
    "Vamos a usar el dataset sintético de target binaria."
   ]
  },
  {
   "cell_type": "code",
   "execution_count": 6,
   "id": "understood-tucson",
   "metadata": {},
   "outputs": [
    {
     "data": {
      "text/html": [
       "<div>\n",
       "<style scoped>\n",
       "    .dataframe tbody tr th:only-of-type {\n",
       "        vertical-align: middle;\n",
       "    }\n",
       "\n",
       "    .dataframe tbody tr th {\n",
       "        vertical-align: top;\n",
       "    }\n",
       "\n",
       "    .dataframe thead th {\n",
       "        text-align: right;\n",
       "    }\n",
       "</style>\n",
       "<table border=\"1\" class=\"dataframe\">\n",
       "  <thead>\n",
       "    <tr style=\"text-align: right;\">\n",
       "      <th></th>\n",
       "      <th>x1</th>\n",
       "      <th>x2</th>\n",
       "      <th>x3</th>\n",
       "      <th>x4</th>\n",
       "      <th>x5</th>\n",
       "      <th>x6</th>\n",
       "      <th>x7</th>\n",
       "      <th>x8</th>\n",
       "      <th>x9</th>\n",
       "      <th>target</th>\n",
       "    </tr>\n",
       "  </thead>\n",
       "  <tbody>\n",
       "    <tr>\n",
       "      <th>0</th>\n",
       "      <td>-0.3</td>\n",
       "      <td>-1.6</td>\n",
       "      <td>-0.3</td>\n",
       "      <td>-1.5</td>\n",
       "      <td>2.6</td>\n",
       "      <td>1.5</td>\n",
       "      <td>-2.2</td>\n",
       "      <td>-0.4</td>\n",
       "      <td>1.9</td>\n",
       "      <td>0</td>\n",
       "    </tr>\n",
       "    <tr>\n",
       "      <th>1</th>\n",
       "      <td>-1.0</td>\n",
       "      <td>0.0</td>\n",
       "      <td>-0.0</td>\n",
       "      <td>-1.5</td>\n",
       "      <td>0.5</td>\n",
       "      <td>0.6</td>\n",
       "      <td>-0.7</td>\n",
       "      <td>0.2</td>\n",
       "      <td>0.3</td>\n",
       "      <td>1</td>\n",
       "    </tr>\n",
       "    <tr>\n",
       "      <th>2</th>\n",
       "      <td>1.7</td>\n",
       "      <td>-1.3</td>\n",
       "      <td>-0.4</td>\n",
       "      <td>-2.2</td>\n",
       "      <td>-2.0</td>\n",
       "      <td>-0.9</td>\n",
       "      <td>-2.6</td>\n",
       "      <td>1.0</td>\n",
       "      <td>2.4</td>\n",
       "      <td>1</td>\n",
       "    </tr>\n",
       "    <tr>\n",
       "      <th>3</th>\n",
       "      <td>-1.9</td>\n",
       "      <td>-1.7</td>\n",
       "      <td>1.3</td>\n",
       "      <td>-0.6</td>\n",
       "      <td>-0.9</td>\n",
       "      <td>-0.6</td>\n",
       "      <td>-0.4</td>\n",
       "      <td>2.6</td>\n",
       "      <td>-1.2</td>\n",
       "      <td>0</td>\n",
       "    </tr>\n",
       "    <tr>\n",
       "      <th>4</th>\n",
       "      <td>1.0</td>\n",
       "      <td>-0.5</td>\n",
       "      <td>2.3</td>\n",
       "      <td>-0.5</td>\n",
       "      <td>2.1</td>\n",
       "      <td>3.6</td>\n",
       "      <td>-2.4</td>\n",
       "      <td>1.1</td>\n",
       "      <td>1.4</td>\n",
       "      <td>1</td>\n",
       "    </tr>\n",
       "    <tr>\n",
       "      <th>...</th>\n",
       "      <td>...</td>\n",
       "      <td>...</td>\n",
       "      <td>...</td>\n",
       "      <td>...</td>\n",
       "      <td>...</td>\n",
       "      <td>...</td>\n",
       "      <td>...</td>\n",
       "      <td>...</td>\n",
       "      <td>...</td>\n",
       "      <td>...</td>\n",
       "    </tr>\n",
       "    <tr>\n",
       "      <th>995</th>\n",
       "      <td>0.1</td>\n",
       "      <td>-0.7</td>\n",
       "      <td>0.5</td>\n",
       "      <td>-0.8</td>\n",
       "      <td>0.1</td>\n",
       "      <td>0.3</td>\n",
       "      <td>-0.6</td>\n",
       "      <td>1.2</td>\n",
       "      <td>-0.4</td>\n",
       "      <td>0</td>\n",
       "    </tr>\n",
       "    <tr>\n",
       "      <th>996</th>\n",
       "      <td>-0.6</td>\n",
       "      <td>1.6</td>\n",
       "      <td>2.7</td>\n",
       "      <td>-1.3</td>\n",
       "      <td>-0.1</td>\n",
       "      <td>2.7</td>\n",
       "      <td>0.3</td>\n",
       "      <td>-1.9</td>\n",
       "      <td>2.5</td>\n",
       "      <td>0</td>\n",
       "    </tr>\n",
       "    <tr>\n",
       "      <th>997</th>\n",
       "      <td>1.0</td>\n",
       "      <td>-1.7</td>\n",
       "      <td>1.1</td>\n",
       "      <td>-0.7</td>\n",
       "      <td>-2.3</td>\n",
       "      <td>-1.1</td>\n",
       "      <td>-1.4</td>\n",
       "      <td>3.8</td>\n",
       "      <td>-1.1</td>\n",
       "      <td>0</td>\n",
       "    </tr>\n",
       "    <tr>\n",
       "      <th>998</th>\n",
       "      <td>-0.8</td>\n",
       "      <td>0.5</td>\n",
       "      <td>3.3</td>\n",
       "      <td>-0.4</td>\n",
       "      <td>-1.8</td>\n",
       "      <td>2.8</td>\n",
       "      <td>-3.6</td>\n",
       "      <td>6.3</td>\n",
       "      <td>-1.8</td>\n",
       "      <td>0</td>\n",
       "    </tr>\n",
       "    <tr>\n",
       "      <th>999</th>\n",
       "      <td>-0.8</td>\n",
       "      <td>-1.1</td>\n",
       "      <td>-0.4</td>\n",
       "      <td>-1.0</td>\n",
       "      <td>0.1</td>\n",
       "      <td>-0.5</td>\n",
       "      <td>-0.8</td>\n",
       "      <td>1.7</td>\n",
       "      <td>-1.0</td>\n",
       "      <td>0</td>\n",
       "    </tr>\n",
       "  </tbody>\n",
       "</table>\n",
       "<p>1000 rows × 10 columns</p>\n",
       "</div>"
      ],
      "text/plain": [
       "      x1   x2   x3   x4   x5   x6   x7   x8   x9  target\n",
       "0   -0.3 -1.6 -0.3 -1.5  2.6  1.5 -2.2 -0.4  1.9       0\n",
       "1   -1.0  0.0 -0.0 -1.5  0.5  0.6 -0.7  0.2  0.3       1\n",
       "2    1.7 -1.3 -0.4 -2.2 -2.0 -0.9 -2.6  1.0  2.4       1\n",
       "3   -1.9 -1.7  1.3 -0.6 -0.9 -0.6 -0.4  2.6 -1.2       0\n",
       "4    1.0 -0.5  2.3 -0.5  2.1  3.6 -2.4  1.1  1.4       1\n",
       "..   ...  ...  ...  ...  ...  ...  ...  ...  ...     ...\n",
       "995  0.1 -0.7  0.5 -0.8  0.1  0.3 -0.6  1.2 -0.4       0\n",
       "996 -0.6  1.6  2.7 -1.3 -0.1  2.7  0.3 -1.9  2.5       0\n",
       "997  1.0 -1.7  1.1 -0.7 -2.3 -1.1 -1.4  3.8 -1.1       0\n",
       "998 -0.8  0.5  3.3 -0.4 -1.8  2.8 -3.6  6.3 -1.8       0\n",
       "999 -0.8 -1.1 -0.4 -1.0  0.1 -0.5 -0.8  1.7 -1.0       0\n",
       "\n",
       "[1000 rows x 10 columns]"
      ]
     },
     "execution_count": 6,
     "metadata": {},
     "output_type": "execute_result"
    }
   ],
   "source": [
    "#Cargamos el dataset sintetico_binaria.csv que está en 00_DATASETS\n",
    "df = pd.read_csv('sintetico_binaria.csv')\n",
    "df"
   ]
  },
  {
   "cell_type": "markdown",
   "id": "specific-feeding",
   "metadata": {},
   "source": [
    "### Modelo"
   ]
  },
  {
   "cell_type": "markdown",
   "id": "adopted-chosen",
   "metadata": {},
   "source": [
    "#### Separar predictoras y target"
   ]
  },
  {
   "cell_type": "code",
   "execution_count": 7,
   "id": "executed-trading",
   "metadata": {},
   "outputs": [],
   "source": [
    "x = df.drop(columns = 'target')\n",
    "y = df['target']"
   ]
  },
  {
   "cell_type": "markdown",
   "id": "stainless-grant",
   "metadata": {},
   "source": [
    "#### Separar train y test"
   ]
  },
  {
   "cell_type": "code",
   "execution_count": 8,
   "id": "informational-adobe",
   "metadata": {},
   "outputs": [],
   "source": [
    "from sklearn.model_selection import train_test_split\n",
    "\n",
    "train_x,test_x,train_y,test_y = train_test_split(x,y,test_size=0.3)"
   ]
  },
  {
   "cell_type": "markdown",
   "id": "regulated-gentleman",
   "metadata": {},
   "source": [
    "#### Entrenar el modelo"
   ]
  },
  {
   "cell_type": "code",
   "execution_count": 9,
   "id": "05f603b8-6748-4309-892f-415cc32e3eec",
   "metadata": {},
   "outputs": [
    {
     "name": "stdout",
     "output_type": "stream",
     "text": [
      "[0]\tvalidation_0-auc:0.70892\n",
      "[1]\tvalidation_0-auc:0.72913\n",
      "[2]\tvalidation_0-auc:0.73209\n",
      "[3]\tvalidation_0-auc:0.73900\n",
      "[4]\tvalidation_0-auc:0.74342\n",
      "[5]\tvalidation_0-auc:0.75164\n",
      "[6]\tvalidation_0-auc:0.75317\n",
      "[7]\tvalidation_0-auc:0.76184\n",
      "[8]\tvalidation_0-auc:0.75484\n",
      "[9]\tvalidation_0-auc:0.76130\n",
      "[10]\tvalidation_0-auc:0.76510\n",
      "[11]\tvalidation_0-auc:0.76142\n",
      "[12]\tvalidation_0-auc:0.76028\n",
      "[13]\tvalidation_0-auc:0.76034\n",
      "[14]\tvalidation_0-auc:0.76453\n",
      "[15]\tvalidation_0-auc:0.76848\n",
      "[16]\tvalidation_0-auc:0.76985\n",
      "[17]\tvalidation_0-auc:0.77123\n",
      "[18]\tvalidation_0-auc:0.77242\n",
      "[19]\tvalidation_0-auc:0.77428\n",
      "[20]\tvalidation_0-auc:0.77751\n",
      "[21]\tvalidation_0-auc:0.77816\n",
      "[22]\tvalidation_0-auc:0.77822\n",
      "[23]\tvalidation_0-auc:0.77774\n",
      "[24]\tvalidation_0-auc:0.77840\n",
      "[25]\tvalidation_0-auc:0.77679\n",
      "[26]\tvalidation_0-auc:0.77493\n",
      "[27]\tvalidation_0-auc:0.77727\n",
      "[28]\tvalidation_0-auc:0.77631\n",
      "[29]\tvalidation_0-auc:0.77386\n"
     ]
    },
    {
     "name": "stderr",
     "output_type": "stream",
     "text": [
      "/home/vscode/.local/lib/python3.11/site-packages/xgboost/callback.py:386: UserWarning: [17:25:38] WARNING: /workspace/src/learner.cc:738: \n",
      "Parameters: { \"use_label_encoder\" } are not used.\n",
      "\n",
      "  self.starting_round = model.num_boosted_rounds()\n"
     ]
    },
    {
     "data": {
      "text/html": [
       "<style>#sk-container-id-1 {\n",
       "  /* Definition of color scheme common for light and dark mode */\n",
       "  --sklearn-color-text: #000;\n",
       "  --sklearn-color-text-muted: #666;\n",
       "  --sklearn-color-line: gray;\n",
       "  /* Definition of color scheme for unfitted estimators */\n",
       "  --sklearn-color-unfitted-level-0: #fff5e6;\n",
       "  --sklearn-color-unfitted-level-1: #f6e4d2;\n",
       "  --sklearn-color-unfitted-level-2: #ffe0b3;\n",
       "  --sklearn-color-unfitted-level-3: chocolate;\n",
       "  /* Definition of color scheme for fitted estimators */\n",
       "  --sklearn-color-fitted-level-0: #f0f8ff;\n",
       "  --sklearn-color-fitted-level-1: #d4ebff;\n",
       "  --sklearn-color-fitted-level-2: #b3dbfd;\n",
       "  --sklearn-color-fitted-level-3: cornflowerblue;\n",
       "\n",
       "  /* Specific color for light theme */\n",
       "  --sklearn-color-text-on-default-background: var(--sg-text-color, var(--theme-code-foreground, var(--jp-content-font-color1, black)));\n",
       "  --sklearn-color-background: var(--sg-background-color, var(--theme-background, var(--jp-layout-color0, white)));\n",
       "  --sklearn-color-border-box: var(--sg-text-color, var(--theme-code-foreground, var(--jp-content-font-color1, black)));\n",
       "  --sklearn-color-icon: #696969;\n",
       "\n",
       "  @media (prefers-color-scheme: dark) {\n",
       "    /* Redefinition of color scheme for dark theme */\n",
       "    --sklearn-color-text-on-default-background: var(--sg-text-color, var(--theme-code-foreground, var(--jp-content-font-color1, white)));\n",
       "    --sklearn-color-background: var(--sg-background-color, var(--theme-background, var(--jp-layout-color0, #111)));\n",
       "    --sklearn-color-border-box: var(--sg-text-color, var(--theme-code-foreground, var(--jp-content-font-color1, white)));\n",
       "    --sklearn-color-icon: #878787;\n",
       "  }\n",
       "}\n",
       "\n",
       "#sk-container-id-1 {\n",
       "  color: var(--sklearn-color-text);\n",
       "}\n",
       "\n",
       "#sk-container-id-1 pre {\n",
       "  padding: 0;\n",
       "}\n",
       "\n",
       "#sk-container-id-1 input.sk-hidden--visually {\n",
       "  border: 0;\n",
       "  clip: rect(1px 1px 1px 1px);\n",
       "  clip: rect(1px, 1px, 1px, 1px);\n",
       "  height: 1px;\n",
       "  margin: -1px;\n",
       "  overflow: hidden;\n",
       "  padding: 0;\n",
       "  position: absolute;\n",
       "  width: 1px;\n",
       "}\n",
       "\n",
       "#sk-container-id-1 div.sk-dashed-wrapped {\n",
       "  border: 1px dashed var(--sklearn-color-line);\n",
       "  margin: 0 0.4em 0.5em 0.4em;\n",
       "  box-sizing: border-box;\n",
       "  padding-bottom: 0.4em;\n",
       "  background-color: var(--sklearn-color-background);\n",
       "}\n",
       "\n",
       "#sk-container-id-1 div.sk-container {\n",
       "  /* jupyter's `normalize.less` sets `[hidden] { display: none; }`\n",
       "     but bootstrap.min.css set `[hidden] { display: none !important; }`\n",
       "     so we also need the `!important` here to be able to override the\n",
       "     default hidden behavior on the sphinx rendered scikit-learn.org.\n",
       "     See: https://github.com/scikit-learn/scikit-learn/issues/21755 */\n",
       "  display: inline-block !important;\n",
       "  position: relative;\n",
       "}\n",
       "\n",
       "#sk-container-id-1 div.sk-text-repr-fallback {\n",
       "  display: none;\n",
       "}\n",
       "\n",
       "div.sk-parallel-item,\n",
       "div.sk-serial,\n",
       "div.sk-item {\n",
       "  /* draw centered vertical line to link estimators */\n",
       "  background-image: linear-gradient(var(--sklearn-color-text-on-default-background), var(--sklearn-color-text-on-default-background));\n",
       "  background-size: 2px 100%;\n",
       "  background-repeat: no-repeat;\n",
       "  background-position: center center;\n",
       "}\n",
       "\n",
       "/* Parallel-specific style estimator block */\n",
       "\n",
       "#sk-container-id-1 div.sk-parallel-item::after {\n",
       "  content: \"\";\n",
       "  width: 100%;\n",
       "  border-bottom: 2px solid var(--sklearn-color-text-on-default-background);\n",
       "  flex-grow: 1;\n",
       "}\n",
       "\n",
       "#sk-container-id-1 div.sk-parallel {\n",
       "  display: flex;\n",
       "  align-items: stretch;\n",
       "  justify-content: center;\n",
       "  background-color: var(--sklearn-color-background);\n",
       "  position: relative;\n",
       "}\n",
       "\n",
       "#sk-container-id-1 div.sk-parallel-item {\n",
       "  display: flex;\n",
       "  flex-direction: column;\n",
       "}\n",
       "\n",
       "#sk-container-id-1 div.sk-parallel-item:first-child::after {\n",
       "  align-self: flex-end;\n",
       "  width: 50%;\n",
       "}\n",
       "\n",
       "#sk-container-id-1 div.sk-parallel-item:last-child::after {\n",
       "  align-self: flex-start;\n",
       "  width: 50%;\n",
       "}\n",
       "\n",
       "#sk-container-id-1 div.sk-parallel-item:only-child::after {\n",
       "  width: 0;\n",
       "}\n",
       "\n",
       "/* Serial-specific style estimator block */\n",
       "\n",
       "#sk-container-id-1 div.sk-serial {\n",
       "  display: flex;\n",
       "  flex-direction: column;\n",
       "  align-items: center;\n",
       "  background-color: var(--sklearn-color-background);\n",
       "  padding-right: 1em;\n",
       "  padding-left: 1em;\n",
       "}\n",
       "\n",
       "\n",
       "/* Toggleable style: style used for estimator/Pipeline/ColumnTransformer box that is\n",
       "clickable and can be expanded/collapsed.\n",
       "- Pipeline and ColumnTransformer use this feature and define the default style\n",
       "- Estimators will overwrite some part of the style using the `sk-estimator` class\n",
       "*/\n",
       "\n",
       "/* Pipeline and ColumnTransformer style (default) */\n",
       "\n",
       "#sk-container-id-1 div.sk-toggleable {\n",
       "  /* Default theme specific background. It is overwritten whether we have a\n",
       "  specific estimator or a Pipeline/ColumnTransformer */\n",
       "  background-color: var(--sklearn-color-background);\n",
       "}\n",
       "\n",
       "/* Toggleable label */\n",
       "#sk-container-id-1 label.sk-toggleable__label {\n",
       "  cursor: pointer;\n",
       "  display: flex;\n",
       "  width: 100%;\n",
       "  margin-bottom: 0;\n",
       "  padding: 0.5em;\n",
       "  box-sizing: border-box;\n",
       "  text-align: center;\n",
       "  align-items: start;\n",
       "  justify-content: space-between;\n",
       "  gap: 0.5em;\n",
       "}\n",
       "\n",
       "#sk-container-id-1 label.sk-toggleable__label .caption {\n",
       "  font-size: 0.6rem;\n",
       "  font-weight: lighter;\n",
       "  color: var(--sklearn-color-text-muted);\n",
       "}\n",
       "\n",
       "#sk-container-id-1 label.sk-toggleable__label-arrow:before {\n",
       "  /* Arrow on the left of the label */\n",
       "  content: \"▸\";\n",
       "  float: left;\n",
       "  margin-right: 0.25em;\n",
       "  color: var(--sklearn-color-icon);\n",
       "}\n",
       "\n",
       "#sk-container-id-1 label.sk-toggleable__label-arrow:hover:before {\n",
       "  color: var(--sklearn-color-text);\n",
       "}\n",
       "\n",
       "/* Toggleable content - dropdown */\n",
       "\n",
       "#sk-container-id-1 div.sk-toggleable__content {\n",
       "  max-height: 0;\n",
       "  max-width: 0;\n",
       "  overflow: hidden;\n",
       "  text-align: left;\n",
       "  /* unfitted */\n",
       "  background-color: var(--sklearn-color-unfitted-level-0);\n",
       "}\n",
       "\n",
       "#sk-container-id-1 div.sk-toggleable__content.fitted {\n",
       "  /* fitted */\n",
       "  background-color: var(--sklearn-color-fitted-level-0);\n",
       "}\n",
       "\n",
       "#sk-container-id-1 div.sk-toggleable__content pre {\n",
       "  margin: 0.2em;\n",
       "  border-radius: 0.25em;\n",
       "  color: var(--sklearn-color-text);\n",
       "  /* unfitted */\n",
       "  background-color: var(--sklearn-color-unfitted-level-0);\n",
       "}\n",
       "\n",
       "#sk-container-id-1 div.sk-toggleable__content.fitted pre {\n",
       "  /* unfitted */\n",
       "  background-color: var(--sklearn-color-fitted-level-0);\n",
       "}\n",
       "\n",
       "#sk-container-id-1 input.sk-toggleable__control:checked~div.sk-toggleable__content {\n",
       "  /* Expand drop-down */\n",
       "  max-height: 200px;\n",
       "  max-width: 100%;\n",
       "  overflow: auto;\n",
       "}\n",
       "\n",
       "#sk-container-id-1 input.sk-toggleable__control:checked~label.sk-toggleable__label-arrow:before {\n",
       "  content: \"▾\";\n",
       "}\n",
       "\n",
       "/* Pipeline/ColumnTransformer-specific style */\n",
       "\n",
       "#sk-container-id-1 div.sk-label input.sk-toggleable__control:checked~label.sk-toggleable__label {\n",
       "  color: var(--sklearn-color-text);\n",
       "  background-color: var(--sklearn-color-unfitted-level-2);\n",
       "}\n",
       "\n",
       "#sk-container-id-1 div.sk-label.fitted input.sk-toggleable__control:checked~label.sk-toggleable__label {\n",
       "  background-color: var(--sklearn-color-fitted-level-2);\n",
       "}\n",
       "\n",
       "/* Estimator-specific style */\n",
       "\n",
       "/* Colorize estimator box */\n",
       "#sk-container-id-1 div.sk-estimator input.sk-toggleable__control:checked~label.sk-toggleable__label {\n",
       "  /* unfitted */\n",
       "  background-color: var(--sklearn-color-unfitted-level-2);\n",
       "}\n",
       "\n",
       "#sk-container-id-1 div.sk-estimator.fitted input.sk-toggleable__control:checked~label.sk-toggleable__label {\n",
       "  /* fitted */\n",
       "  background-color: var(--sklearn-color-fitted-level-2);\n",
       "}\n",
       "\n",
       "#sk-container-id-1 div.sk-label label.sk-toggleable__label,\n",
       "#sk-container-id-1 div.sk-label label {\n",
       "  /* The background is the default theme color */\n",
       "  color: var(--sklearn-color-text-on-default-background);\n",
       "}\n",
       "\n",
       "/* On hover, darken the color of the background */\n",
       "#sk-container-id-1 div.sk-label:hover label.sk-toggleable__label {\n",
       "  color: var(--sklearn-color-text);\n",
       "  background-color: var(--sklearn-color-unfitted-level-2);\n",
       "}\n",
       "\n",
       "/* Label box, darken color on hover, fitted */\n",
       "#sk-container-id-1 div.sk-label.fitted:hover label.sk-toggleable__label.fitted {\n",
       "  color: var(--sklearn-color-text);\n",
       "  background-color: var(--sklearn-color-fitted-level-2);\n",
       "}\n",
       "\n",
       "/* Estimator label */\n",
       "\n",
       "#sk-container-id-1 div.sk-label label {\n",
       "  font-family: monospace;\n",
       "  font-weight: bold;\n",
       "  display: inline-block;\n",
       "  line-height: 1.2em;\n",
       "}\n",
       "\n",
       "#sk-container-id-1 div.sk-label-container {\n",
       "  text-align: center;\n",
       "}\n",
       "\n",
       "/* Estimator-specific */\n",
       "#sk-container-id-1 div.sk-estimator {\n",
       "  font-family: monospace;\n",
       "  border: 1px dotted var(--sklearn-color-border-box);\n",
       "  border-radius: 0.25em;\n",
       "  box-sizing: border-box;\n",
       "  margin-bottom: 0.5em;\n",
       "  /* unfitted */\n",
       "  background-color: var(--sklearn-color-unfitted-level-0);\n",
       "}\n",
       "\n",
       "#sk-container-id-1 div.sk-estimator.fitted {\n",
       "  /* fitted */\n",
       "  background-color: var(--sklearn-color-fitted-level-0);\n",
       "}\n",
       "\n",
       "/* on hover */\n",
       "#sk-container-id-1 div.sk-estimator:hover {\n",
       "  /* unfitted */\n",
       "  background-color: var(--sklearn-color-unfitted-level-2);\n",
       "}\n",
       "\n",
       "#sk-container-id-1 div.sk-estimator.fitted:hover {\n",
       "  /* fitted */\n",
       "  background-color: var(--sklearn-color-fitted-level-2);\n",
       "}\n",
       "\n",
       "/* Specification for estimator info (e.g. \"i\" and \"?\") */\n",
       "\n",
       "/* Common style for \"i\" and \"?\" */\n",
       "\n",
       ".sk-estimator-doc-link,\n",
       "a:link.sk-estimator-doc-link,\n",
       "a:visited.sk-estimator-doc-link {\n",
       "  float: right;\n",
       "  font-size: smaller;\n",
       "  line-height: 1em;\n",
       "  font-family: monospace;\n",
       "  background-color: var(--sklearn-color-background);\n",
       "  border-radius: 1em;\n",
       "  height: 1em;\n",
       "  width: 1em;\n",
       "  text-decoration: none !important;\n",
       "  margin-left: 0.5em;\n",
       "  text-align: center;\n",
       "  /* unfitted */\n",
       "  border: var(--sklearn-color-unfitted-level-1) 1pt solid;\n",
       "  color: var(--sklearn-color-unfitted-level-1);\n",
       "}\n",
       "\n",
       ".sk-estimator-doc-link.fitted,\n",
       "a:link.sk-estimator-doc-link.fitted,\n",
       "a:visited.sk-estimator-doc-link.fitted {\n",
       "  /* fitted */\n",
       "  border: var(--sklearn-color-fitted-level-1) 1pt solid;\n",
       "  color: var(--sklearn-color-fitted-level-1);\n",
       "}\n",
       "\n",
       "/* On hover */\n",
       "div.sk-estimator:hover .sk-estimator-doc-link:hover,\n",
       ".sk-estimator-doc-link:hover,\n",
       "div.sk-label-container:hover .sk-estimator-doc-link:hover,\n",
       ".sk-estimator-doc-link:hover {\n",
       "  /* unfitted */\n",
       "  background-color: var(--sklearn-color-unfitted-level-3);\n",
       "  color: var(--sklearn-color-background);\n",
       "  text-decoration: none;\n",
       "}\n",
       "\n",
       "div.sk-estimator.fitted:hover .sk-estimator-doc-link.fitted:hover,\n",
       ".sk-estimator-doc-link.fitted:hover,\n",
       "div.sk-label-container:hover .sk-estimator-doc-link.fitted:hover,\n",
       ".sk-estimator-doc-link.fitted:hover {\n",
       "  /* fitted */\n",
       "  background-color: var(--sklearn-color-fitted-level-3);\n",
       "  color: var(--sklearn-color-background);\n",
       "  text-decoration: none;\n",
       "}\n",
       "\n",
       "/* Span, style for the box shown on hovering the info icon */\n",
       ".sk-estimator-doc-link span {\n",
       "  display: none;\n",
       "  z-index: 9999;\n",
       "  position: relative;\n",
       "  font-weight: normal;\n",
       "  right: .2ex;\n",
       "  padding: .5ex;\n",
       "  margin: .5ex;\n",
       "  width: min-content;\n",
       "  min-width: 20ex;\n",
       "  max-width: 50ex;\n",
       "  color: var(--sklearn-color-text);\n",
       "  box-shadow: 2pt 2pt 4pt #999;\n",
       "  /* unfitted */\n",
       "  background: var(--sklearn-color-unfitted-level-0);\n",
       "  border: .5pt solid var(--sklearn-color-unfitted-level-3);\n",
       "}\n",
       "\n",
       ".sk-estimator-doc-link.fitted span {\n",
       "  /* fitted */\n",
       "  background: var(--sklearn-color-fitted-level-0);\n",
       "  border: var(--sklearn-color-fitted-level-3);\n",
       "}\n",
       "\n",
       ".sk-estimator-doc-link:hover span {\n",
       "  display: block;\n",
       "}\n",
       "\n",
       "/* \"?\"-specific style due to the `<a>` HTML tag */\n",
       "\n",
       "#sk-container-id-1 a.estimator_doc_link {\n",
       "  float: right;\n",
       "  font-size: 1rem;\n",
       "  line-height: 1em;\n",
       "  font-family: monospace;\n",
       "  background-color: var(--sklearn-color-background);\n",
       "  border-radius: 1rem;\n",
       "  height: 1rem;\n",
       "  width: 1rem;\n",
       "  text-decoration: none;\n",
       "  /* unfitted */\n",
       "  color: var(--sklearn-color-unfitted-level-1);\n",
       "  border: var(--sklearn-color-unfitted-level-1) 1pt solid;\n",
       "}\n",
       "\n",
       "#sk-container-id-1 a.estimator_doc_link.fitted {\n",
       "  /* fitted */\n",
       "  border: var(--sklearn-color-fitted-level-1) 1pt solid;\n",
       "  color: var(--sklearn-color-fitted-level-1);\n",
       "}\n",
       "\n",
       "/* On hover */\n",
       "#sk-container-id-1 a.estimator_doc_link:hover {\n",
       "  /* unfitted */\n",
       "  background-color: var(--sklearn-color-unfitted-level-3);\n",
       "  color: var(--sklearn-color-background);\n",
       "  text-decoration: none;\n",
       "}\n",
       "\n",
       "#sk-container-id-1 a.estimator_doc_link.fitted:hover {\n",
       "  /* fitted */\n",
       "  background-color: var(--sklearn-color-fitted-level-3);\n",
       "}\n",
       "</style><div id=\"sk-container-id-1\" class=\"sk-top-container\"><div class=\"sk-text-repr-fallback\"><pre>XGBClassifier(base_score=None, booster=None, callbacks=None,\n",
       "              colsample_bylevel=None, colsample_bynode=None,\n",
       "              colsample_bytree=None, device=None, early_stopping_rounds=5,\n",
       "              enable_categorical=False, eval_metric=&#x27;auc&#x27;, feature_types=None,\n",
       "              feature_weights=None, gamma=None, grow_policy=None,\n",
       "              importance_type=None, interaction_constraints=None,\n",
       "              learning_rate=None, max_bin=None, max_cat_threshold=None,\n",
       "              max_cat_to_onehot=None, max_delta_step=None, max_depth=None,\n",
       "              max_leaves=None, min_child_weight=None, missing=nan,\n",
       "              monotone_constraints=None, multi_strategy=None, n_estimators=None,\n",
       "              n_jobs=None, num_parallel_tree=None, ...)</pre><b>In a Jupyter environment, please rerun this cell to show the HTML representation or trust the notebook. <br />On GitHub, the HTML representation is unable to render, please try loading this page with nbviewer.org.</b></div><div class=\"sk-container\" hidden><div class=\"sk-item\"><div class=\"sk-estimator fitted sk-toggleable\"><input class=\"sk-toggleable__control sk-hidden--visually\" id=\"sk-estimator-id-1\" type=\"checkbox\" checked><label for=\"sk-estimator-id-1\" class=\"sk-toggleable__label fitted sk-toggleable__label-arrow\"><div><div>XGBClassifier</div></div><div><a class=\"sk-estimator-doc-link fitted\" rel=\"noreferrer\" target=\"_blank\" href=\"https://xgboost.readthedocs.io/en/release_3.0.0/python/python_api.html#xgboost.XGBClassifier\">?<span>Documentation for XGBClassifier</span></a><span class=\"sk-estimator-doc-link fitted\">i<span>Fitted</span></span></div></label><div class=\"sk-toggleable__content fitted\"><pre>XGBClassifier(base_score=None, booster=None, callbacks=None,\n",
       "              colsample_bylevel=None, colsample_bynode=None,\n",
       "              colsample_bytree=None, device=None, early_stopping_rounds=5,\n",
       "              enable_categorical=False, eval_metric=&#x27;auc&#x27;, feature_types=None,\n",
       "              feature_weights=None, gamma=None, grow_policy=None,\n",
       "              importance_type=None, interaction_constraints=None,\n",
       "              learning_rate=None, max_bin=None, max_cat_threshold=None,\n",
       "              max_cat_to_onehot=None, max_delta_step=None, max_depth=None,\n",
       "              max_leaves=None, min_child_weight=None, missing=nan,\n",
       "              monotone_constraints=None, multi_strategy=None, n_estimators=None,\n",
       "              n_jobs=None, num_parallel_tree=None, ...)</pre></div> </div></div></div></div>"
      ],
      "text/plain": [
       "XGBClassifier(base_score=None, booster=None, callbacks=None,\n",
       "              colsample_bylevel=None, colsample_bynode=None,\n",
       "              colsample_bytree=None, device=None, early_stopping_rounds=5,\n",
       "              enable_categorical=False, eval_metric='auc', feature_types=None,\n",
       "              feature_weights=None, gamma=None, grow_policy=None,\n",
       "              importance_type=None, interaction_constraints=None,\n",
       "              learning_rate=None, max_bin=None, max_cat_threshold=None,\n",
       "              max_cat_to_onehot=None, max_delta_step=None, max_depth=None,\n",
       "              max_leaves=None, min_child_weight=None, missing=nan,\n",
       "              monotone_constraints=None, multi_strategy=None, n_estimators=None,\n",
       "              n_jobs=None, num_parallel_tree=None, ...)"
      ]
     },
     "execution_count": 9,
     "metadata": {},
     "output_type": "execute_result"
    }
   ],
   "source": [
    "from xgboost import XGBClassifier\n",
    "\n",
    "# Instanciar el clasificador y configurar los parámetros\n",
    "xgb = XGBClassifier(use_label_encoder=False, eval_metric='auc', early_stopping_rounds=5)\n",
    "\n",
    "# Entrenar\n",
    "xgb.fit(train_x, train_y, eval_set=[(test_x, test_y)])\n"
   ]
  },
  {
   "cell_type": "markdown",
   "id": "relative-production",
   "metadata": {},
   "source": [
    "#### Predecir sobre test"
   ]
  },
  {
   "cell_type": "code",
   "execution_count": 10,
   "id": "bright-adventure",
   "metadata": {},
   "outputs": [
    {
     "data": {
      "text/plain": [
       "array([0.872179  , 0.2581501 , 0.9874594 , 0.00807258, 0.00474588,\n",
       "       0.84677815, 0.9046085 , 0.02208617, 0.24806958, 0.61395556],\n",
       "      dtype=float32)"
      ]
     },
     "execution_count": 10,
     "metadata": {},
     "output_type": "execute_result"
    }
   ],
   "source": [
    "pred = xgb.predict_proba(test_x)[:, 1]\n",
    "pred[:10]"
   ]
  },
  {
   "cell_type": "markdown",
   "id": "included-capture",
   "metadata": {},
   "source": [
    "#### Evaluar sobre test"
   ]
  },
  {
   "cell_type": "code",
   "execution_count": 11,
   "id": "driven-first",
   "metadata": {},
   "outputs": [
    {
     "data": {
      "text/plain": [
       "np.float64(0.7784022961014111)"
      ]
     },
     "execution_count": 11,
     "metadata": {},
     "output_type": "execute_result"
    }
   ],
   "source": [
    "from sklearn.metrics import roc_auc_score\n",
    "\n",
    "roc_auc_score(test_y,pred)"
   ]
  },
  {
   "cell_type": "markdown",
   "id": "stretch-chapel",
   "metadata": {},
   "source": [
    "#### Revisión de los parámetros de entrenamiento"
   ]
  },
  {
   "cell_type": "code",
   "execution_count": 12,
   "id": "beginning-newport",
   "metadata": {},
   "outputs": [
    {
     "data": {
      "text/plain": [
       "{'objective': 'binary:logistic',\n",
       " 'base_score': None,\n",
       " 'booster': None,\n",
       " 'callbacks': None,\n",
       " 'colsample_bylevel': None,\n",
       " 'colsample_bynode': None,\n",
       " 'colsample_bytree': None,\n",
       " 'device': None,\n",
       " 'early_stopping_rounds': 5,\n",
       " 'enable_categorical': False,\n",
       " 'eval_metric': 'auc',\n",
       " 'feature_types': None,\n",
       " 'feature_weights': None,\n",
       " 'gamma': None,\n",
       " 'grow_policy': None,\n",
       " 'importance_type': None,\n",
       " 'interaction_constraints': None,\n",
       " 'learning_rate': None,\n",
       " 'max_bin': None,\n",
       " 'max_cat_threshold': None,\n",
       " 'max_cat_to_onehot': None,\n",
       " 'max_delta_step': None,\n",
       " 'max_depth': None,\n",
       " 'max_leaves': None,\n",
       " 'min_child_weight': None,\n",
       " 'missing': nan,\n",
       " 'monotone_constraints': None,\n",
       " 'multi_strategy': None,\n",
       " 'n_estimators': None,\n",
       " 'n_jobs': None,\n",
       " 'num_parallel_tree': None,\n",
       " 'random_state': None,\n",
       " 'reg_alpha': None,\n",
       " 'reg_lambda': None,\n",
       " 'sampling_method': None,\n",
       " 'scale_pos_weight': None,\n",
       " 'subsample': None,\n",
       " 'tree_method': None,\n",
       " 'validate_parameters': None,\n",
       " 'verbosity': None,\n",
       " 'use_label_encoder': False}"
      ]
     },
     "execution_count": 12,
     "metadata": {},
     "output_type": "execute_result"
    }
   ],
   "source": [
    "xgb.get_params()"
   ]
  },
  {
   "cell_type": "markdown",
   "id": "established-springer",
   "metadata": {},
   "source": [
    "#### Análisis de la importancia de las variables"
   ]
  },
  {
   "cell_type": "markdown",
   "id": "nutritional-bailey",
   "metadata": {},
   "source": [
    "XGBoost calcula la importancia de las variables como la ganancia media en todos los nodos en los que se ha usado la variable."
   ]
  },
  {
   "cell_type": "code",
   "execution_count": 13,
   "id": "muslim-franchise",
   "metadata": {
    "scrolled": true
   },
   "outputs": [
    {
     "data": {
      "image/png": "[encoded data removed]",
      "text/plain": [
       "<Figure size 640x480 with 1 Axes>"
      ]
     },
     "metadata": {},
     "output_type": "display_data"
    }
   ],
   "source": [
    "pd.Series(xgb.feature_importances_,index = test_x.columns).sort_values(ascending = False).plot(kind = 'bar');"
   ]
  },
  {
   "cell_type": "markdown",
   "id": "hungry-waterproof",
   "metadata": {},
   "source": [
    "O un dataframe"
   ]
  },
  {
   "cell_type": "code",
   "execution_count": 14,
   "id": "opened-accounting",
   "metadata": {},
   "outputs": [
    {
     "data": {
      "text/html": [
       "<div>\n",
       "<style scoped>\n",
       "    .dataframe tbody tr th:only-of-type {\n",
       "        vertical-align: middle;\n",
       "    }\n",
       "\n",
       "    .dataframe tbody tr th {\n",
       "        vertical-align: top;\n",
       "    }\n",
       "\n",
       "    .dataframe thead th {\n",
       "        text-align: right;\n",
       "    }\n",
       "</style>\n",
       "<table border=\"1\" class=\"dataframe\">\n",
       "  <thead>\n",
       "    <tr style=\"text-align: right;\">\n",
       "      <th></th>\n",
       "      <th>variable</th>\n",
       "      <th>importancia</th>\n",
       "    </tr>\n",
       "  </thead>\n",
       "  <tbody>\n",
       "    <tr>\n",
       "      <th>2</th>\n",
       "      <td>x3</td>\n",
       "      <td>0.3</td>\n",
       "    </tr>\n",
       "    <tr>\n",
       "      <th>6</th>\n",
       "      <td>x7</td>\n",
       "      <td>0.1</td>\n",
       "    </tr>\n",
       "    <tr>\n",
       "      <th>4</th>\n",
       "      <td>x5</td>\n",
       "      <td>0.1</td>\n",
       "    </tr>\n",
       "    <tr>\n",
       "      <th>8</th>\n",
       "      <td>x9</td>\n",
       "      <td>0.1</td>\n",
       "    </tr>\n",
       "    <tr>\n",
       "      <th>0</th>\n",
       "      <td>x1</td>\n",
       "      <td>0.1</td>\n",
       "    </tr>\n",
       "    <tr>\n",
       "      <th>1</th>\n",
       "      <td>x2</td>\n",
       "      <td>0.1</td>\n",
       "    </tr>\n",
       "    <tr>\n",
       "      <th>7</th>\n",
       "      <td>x8</td>\n",
       "      <td>0.1</td>\n",
       "    </tr>\n",
       "    <tr>\n",
       "      <th>3</th>\n",
       "      <td>x4</td>\n",
       "      <td>0.1</td>\n",
       "    </tr>\n",
       "    <tr>\n",
       "      <th>5</th>\n",
       "      <td>x6</td>\n",
       "      <td>0.1</td>\n",
       "    </tr>\n",
       "  </tbody>\n",
       "</table>\n",
       "</div>"
      ],
      "text/plain": [
       "  variable  importancia\n",
       "2       x3          0.3\n",
       "6       x7          0.1\n",
       "4       x5          0.1\n",
       "8       x9          0.1\n",
       "0       x1          0.1\n",
       "1       x2          0.1\n",
       "7       x8          0.1\n",
       "3       x4          0.1\n",
       "5       x6          0.1"
      ]
     },
     "execution_count": 14,
     "metadata": {},
     "output_type": "execute_result"
    }
   ],
   "source": [
    "importancia = pd.DataFrame({'variable': test_x.columns, 'importancia': xgb.feature_importances_})\n",
    "importancia.sort_values(by = 'importancia', ascending = False)"
   ]
  }
 ],
 "metadata": {
  "kernelspec": {
   "display_name": "Python 3",
   "language": "python",
   "name": "python3"
  },
  "language_info": {
   "codemirror_mode": {
    "name": "ipython",
    "version": 3
   },
   "file_extension": ".py",
   "mimetype": "text/x-python",
   "name": "python",
   "nbconvert_exporter": "python",
   "pygments_lexer": "ipython3",
   "version": "3.11.4"
  },
  "toc": {
   "base_numbering": 1,
   "nav_menu": {},
   "number_sections": true,
   "sideBar": true,
   "skip_h1_title": false,
   "title_cell": "Table of Contents",
   "title_sidebar": "Contents",
   "toc_cell": false,
   "toc_position": {
    "height": "calc(100% - 180px)",
    "left": "10px",
    "top": "150px",
    "width": "352px"
   },
   "toc_section_display": true,
   "toc_window_display": true
  },
  "varInspector": {
   "cols": {
    "lenName": 16,
    "lenType": 16,
    "lenVar": 40
   },
   "kernels_config": {
    "python": {
     "delete_cmd_postfix": "",
     "delete_cmd_prefix": "del ",
     "library": "var_list.py",
     "varRefreshCmd": "print(var_dic_list())"
    },
    "r": {
     "delete_cmd_postfix": ") ",
     "delete_cmd_prefix": "rm(",
     "library": "var_list.r",
     "varRefreshCmd": "cat(var_dic_list()) "
    }
   },
   "types_to_exclude": [
    "module",
    "function",
    "builtin_function_or_method",
    "instance",
    "_Feature"
   ],
   "window_display": false
  }
 },
 "nbformat": 4,
 "nbformat_minor": 5
}
